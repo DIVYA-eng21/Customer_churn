{
 "cells": [
  {
   "cell_type": "markdown",
   "id": "beffedde-3eaa-4454-b16c-3313e10bf783",
   "metadata": {},
   "source": [
    "# Artifical Neural  Network"
   ]
  },
  {
   "cell_type": "code",
   "execution_count": 1,
   "id": "f6a45066-ecb3-479d-9518-aab0b9331b81",
   "metadata": {},
   "outputs": [],
   "source": [
    "import pandas as pd"
   ]
  },
  {
   "cell_type": "code",
   "execution_count": 2,
   "id": "edbaee78-5196-454b-b54f-0d78ed782bb7",
   "metadata": {},
   "outputs": [],
   "source": [
    "dataset=pd.read_csv(\"customer_churn_dataset-training-master.csv\")"
   ]
  },
  {
   "cell_type": "code",
   "execution_count": 3,
   "id": "91821e94-e617-4a72-9fbc-7764d80b0109",
   "metadata": {},
   "outputs": [],
   "source": [
    "datas=pd.read_csv(\"customer_churn_dataset-testing-master.csv\")"
   ]
  },
  {
   "cell_type": "code",
   "execution_count": 4,
   "id": "30a8c1e3-da99-44d8-b9ed-81cdf33df0d1",
   "metadata": {},
   "outputs": [
    {
     "data": {
      "text/plain": [
       "CustomerID           1\n",
       "Age                  1\n",
       "Gender               1\n",
       "Tenure               1\n",
       "Usage Frequency      1\n",
       "Support Calls        1\n",
       "Payment Delay        1\n",
       "Subscription Type    1\n",
       "Contract Length      1\n",
       "Total Spend          1\n",
       "Last Interaction     1\n",
       "Churn                1\n",
       "dtype: int64"
      ]
     },
     "execution_count": 4,
     "metadata": {},
     "output_type": "execute_result"
    }
   ],
   "source": [
    "dataset.isnull().sum()"
   ]
  },
  {
   "cell_type": "code",
   "execution_count": 5,
   "id": "b92743aa-463d-4a86-b095-871597a028de",
   "metadata": {},
   "outputs": [
    {
     "name": "stderr",
     "output_type": "stream",
     "text": [
      "C:\\Users\\divya\\AppData\\Local\\Temp\\ipykernel_30880\\203041930.py:1: FutureWarning: DataFrame.fillna with 'method' is deprecated and will raise in a future version. Use obj.ffill() or obj.bfill() instead.\n",
      "  dataset=dataset.fillna(method=\"bfill\")\n"
     ]
    }
   ],
   "source": [
    "dataset=dataset.fillna(method=\"bfill\")"
   ]
  },
  {
   "cell_type": "code",
   "execution_count": 6,
   "id": "4cf5d55b-5373-4938-8c77-ced5ed8144e5",
   "metadata": {},
   "outputs": [
    {
     "data": {
      "text/plain": [
       "CustomerID           0\n",
       "Age                  0\n",
       "Gender               0\n",
       "Tenure               0\n",
       "Usage Frequency      0\n",
       "Support Calls        0\n",
       "Payment Delay        0\n",
       "Subscription Type    0\n",
       "Contract Length      0\n",
       "Total Spend          0\n",
       "Last Interaction     0\n",
       "Churn                0\n",
       "dtype: int64"
      ]
     },
     "execution_count": 6,
     "metadata": {},
     "output_type": "execute_result"
    }
   ],
   "source": [
    "dataset.isnull().sum()"
   ]
  },
  {
   "cell_type": "code",
   "execution_count": 8,
   "id": "3950140c-a2db-4d71-ba9f-f84f7e4d9e1b",
   "metadata": {},
   "outputs": [
    {
     "data": {
      "text/plain": [
       "CustomerID           0\n",
       "Age                  0\n",
       "Gender               0\n",
       "Tenure               0\n",
       "Usage Frequency      0\n",
       "Support Calls        0\n",
       "Payment Delay        0\n",
       "Subscription Type    0\n",
       "Contract Length      0\n",
       "Total Spend          0\n",
       "Last Interaction     0\n",
       "Churn                0\n",
       "dtype: int64"
      ]
     },
     "execution_count": 8,
     "metadata": {},
     "output_type": "execute_result"
    }
   ],
   "source": [
    "datas.isnull().sum()"
   ]
  },
  {
   "cell_type": "raw",
   "id": "a74dfa60-743a-4067-bf22-c804bc79e192",
   "metadata": {},
   "source": [
    "NO null values now, \n",
    "let's continue"
   ]
  },
  {
   "cell_type": "code",
   "execution_count": 9,
   "id": "c31257f5-a687-4cbc-b55b-8aeb07a2999c",
   "metadata": {},
   "outputs": [],
   "source": [
    "from sklearn.preprocessing import LabelEncoder"
   ]
  },
  {
   "cell_type": "code",
   "execution_count": 11,
   "id": "ce5d5ec6-7c59-46e7-a968-63985e6c7d5e",
   "metadata": {},
   "outputs": [],
   "source": [
    "le=LabelEncoder()\n",
    "le.fit(dataset[\"Gender\"])\n",
    "dataset[\"Gender\"]=le.transform(dataset[\"Gender\"])"
   ]
  },
  {
   "cell_type": "code",
   "execution_count": 14,
   "id": "85e59da1-dcc9-4abf-84cd-0c3668f95f34",
   "metadata": {},
   "outputs": [],
   "source": [
    "le=LabelEncoder()\n",
    "le.fit(datas[\"Gender\"])\n",
    "datas[\"Gender\"]=le.transform(datas[\"Gender\"])"
   ]
  },
  {
   "cell_type": "code",
   "execution_count": 15,
   "id": "1ff3c5df-1281-4a9d-9b02-d4c4243d611e",
   "metadata": {},
   "outputs": [],
   "source": [
    "li=LabelEncoder()\n",
    "li.fit(dataset[\"Subscription Type\"])\n",
    "dataset[\"Subscription Type\"]=li.transform(dataset[\"Subscription Type\"])"
   ]
  },
  {
   "cell_type": "code",
   "execution_count": 19,
   "id": "6e0bb961-2aa2-46b2-9055-8ee2de6ed8b8",
   "metadata": {},
   "outputs": [],
   "source": [
    "li=LabelEncoder()\n",
    "li.fit(datas[\"Subscription Type\"])\n",
    "datas[\"Subscription Type\"]=li.transform(datas[\"Subscription Type\"])"
   ]
  },
  {
   "cell_type": "code",
   "execution_count": 20,
   "id": "63dbd4cb-1f00-4e5d-8df6-b574107b6b87",
   "metadata": {},
   "outputs": [],
   "source": [
    "li=LabelEncoder()\n",
    "li.fit(dataset[\"Contract Length\"])\n",
    "dataset[\"Contract Length\"]=li.transform(dataset[\"Contract Length\"])"
   ]
  },
  {
   "cell_type": "code",
   "execution_count": 21,
   "id": "045ce5a0-eea4-4136-813e-503c723f84be",
   "metadata": {},
   "outputs": [],
   "source": [
    "li=LabelEncoder()\n",
    "li.fit(datas[\"Contract Length\"])\n",
    "datas[\"Contract Length\"]=li.transform(datas[\"Contract Length\"])"
   ]
  },
  {
   "cell_type": "code",
   "execution_count": 22,
   "id": "310504e0-100b-4c25-a944-b8c9892d83a3",
   "metadata": {},
   "outputs": [],
   "source": [
    "input_data=dataset.iloc[:,:-1]\n",
    "output_data=dataset.iloc[:,-1]\n"
   ]
  },
  {
   "cell_type": "code",
   "execution_count": 23,
   "id": "45d630ea-25fd-4018-b207-458a4947f03f",
   "metadata": {},
   "outputs": [],
   "source": [
    "from sklearn.preprocessing import StandardScaler\n",
    "ss=StandardScaler()\n",
    "input_data=pd.DataFrame(ss.fit_transform(input_data),columns=input_data.columns)\n"
   ]
  },
  {
   "cell_type": "code",
   "execution_count": 24,
   "id": "b0939179-a8ae-4948-9475-391b7d6d473e",
   "metadata": {},
   "outputs": [],
   "source": [
    "x_train=input_data\n",
    "y_train=output_data"
   ]
  },
  {
   "cell_type": "code",
   "execution_count": 25,
   "id": "f2c19fad-0c41-4e98-8b3f-a3dcecd82a97",
   "metadata": {},
   "outputs": [],
   "source": [
    "x_test=datas.iloc[:,:-1]\n",
    "y_test=datas.iloc[:,-1]"
   ]
  },
  {
   "cell_type": "code",
   "execution_count": 26,
   "id": "325304fc-452b-44d5-a0f8-b466d6dc35d8",
   "metadata": {},
   "outputs": [
    {
     "data": {
      "text/plain": [
       "(440833, 11)"
      ]
     },
     "execution_count": 26,
     "metadata": {},
     "output_type": "execute_result"
    }
   ],
   "source": [
    "x_train.shape"
   ]
  },
  {
   "cell_type": "code",
   "execution_count": 28,
   "id": "cbc30b51-7247-4dd2-9d44-e34016200805",
   "metadata": {},
   "outputs": [],
   "source": [
    "import tensorflow\n",
    "from keras.layers import Dense\n",
    "from keras.models import Sequential\n",
    "ann=Sequential()\n"
   ]
  },
  {
   "cell_type": "code",
   "execution_count": 31,
   "id": "fd1a728e-baca-49b2-b83e-8f5f0968010e",
   "metadata": {},
   "outputs": [
    {
     "name": "stderr",
     "output_type": "stream",
     "text": [
      "C:\\Users\\divya\\anaconda3\\Lib\\site-packages\\keras\\src\\layers\\core\\dense.py:87: UserWarning: Do not pass an `input_shape`/`input_dim` argument to a layer. When using Sequential models, prefer using an `Input(shape)` object as the first layer in the model instead.\n",
      "  super().__init__(activity_regularizer=activity_regularizer, **kwargs)\n"
     ]
    }
   ],
   "source": [
    "ann.add(Dense(64,input_dim=11,activation=\"relu\"))\n",
    "ann.add(Dense(32,activation=\"relu\"))\n",
    "ann.add(Dense(16,activation=\"relu\"))\n",
    "ann.add(Dense(8,activation=\"relu\"))\n",
    "ann.add(Dense(1, activation=\"sigmoid\"))\n"
   ]
  },
  {
   "cell_type": "code",
   "execution_count": 34,
   "id": "ba5d039d-3ec9-4323-a092-64f76e618f93",
   "metadata": {},
   "outputs": [],
   "source": [
    "ann.compile(optimizer=\"adam\",loss=\"binary_crossentropy\",metrics=['accuracy'])"
   ]
  },
  {
   "cell_type": "code",
   "execution_count": 37,
   "id": "f552011c-4dc9-46f2-9d0e-b015ba5a29c4",
   "metadata": {},
   "outputs": [
    {
     "name": "stdout",
     "output_type": "stream",
     "text": [
      "[0. 1.]\n"
     ]
    }
   ],
   "source": [
    "import numpy as np\n",
    "print(np.unique(y_train))\n"
   ]
  },
  {
   "cell_type": "code",
   "execution_count": 39,
   "id": "5e931ebc-95ba-4ece-96d7-bf2c60e589f8",
   "metadata": {},
   "outputs": [
    {
     "name": "stdout",
     "output_type": "stream",
     "text": [
      "Epoch 1/50\n",
      "\u001b[1m6889/6889\u001b[0m \u001b[32m━━━━━━━━━━━━━━━━━━━━\u001b[0m\u001b[37m\u001b[0m \u001b[1m33s\u001b[0m 4ms/step - accuracy: 0.9814 - loss: 0.0565\n",
      "Epoch 2/50\n",
      "\u001b[1m6889/6889\u001b[0m \u001b[32m━━━━━━━━━━━━━━━━━━━━\u001b[0m\u001b[37m\u001b[0m \u001b[1m40s\u001b[0m 4ms/step - accuracy: 0.9957 - loss: 0.0109\n",
      "Epoch 3/50\n",
      "\u001b[1m6889/6889\u001b[0m \u001b[32m━━━━━━━━━━━━━━━━━━━━\u001b[0m\u001b[37m\u001b[0m \u001b[1m41s\u001b[0m 4ms/step - accuracy: 0.9967 - loss: 0.0079\n",
      "Epoch 4/50\n",
      "\u001b[1m6889/6889\u001b[0m \u001b[32m━━━━━━━━━━━━━━━━━━━━\u001b[0m\u001b[37m\u001b[0m \u001b[1m45s\u001b[0m 4ms/step - accuracy: 0.9971 - loss: 0.0069\n",
      "Epoch 5/50\n",
      "\u001b[1m6889/6889\u001b[0m \u001b[32m━━━━━━━━━━━━━━━━━━━━\u001b[0m\u001b[37m\u001b[0m \u001b[1m37s\u001b[0m 4ms/step - accuracy: 0.9973 - loss: 0.0063\n",
      "Epoch 6/50\n",
      "\u001b[1m6889/6889\u001b[0m \u001b[32m━━━━━━━━━━━━━━━━━━━━\u001b[0m\u001b[37m\u001b[0m \u001b[1m43s\u001b[0m 4ms/step - accuracy: 0.9977 - loss: 0.0056\n",
      "Epoch 7/50\n",
      "\u001b[1m6889/6889\u001b[0m \u001b[32m━━━━━━━━━━━━━━━━━━━━\u001b[0m\u001b[37m\u001b[0m \u001b[1m31s\u001b[0m 4ms/step - accuracy: 0.9980 - loss: 0.0049\n",
      "Epoch 8/50\n",
      "\u001b[1m6889/6889\u001b[0m \u001b[32m━━━━━━━━━━━━━━━━━━━━\u001b[0m\u001b[37m\u001b[0m \u001b[1m41s\u001b[0m 5ms/step - accuracy: 0.9980 - loss: 0.0050\n",
      "Epoch 9/50\n",
      "\u001b[1m6889/6889\u001b[0m \u001b[32m━━━━━━━━━━━━━━━━━━━━\u001b[0m\u001b[37m\u001b[0m \u001b[1m34s\u001b[0m 5ms/step - accuracy: 0.9981 - loss: 0.0046\n",
      "Epoch 10/50\n",
      "\u001b[1m6889/6889\u001b[0m \u001b[32m━━━━━━━━━━━━━━━━━━━━\u001b[0m\u001b[37m\u001b[0m \u001b[1m34s\u001b[0m 5ms/step - accuracy: 0.9983 - loss: 0.0040\n",
      "Epoch 11/50\n",
      "\u001b[1m6889/6889\u001b[0m \u001b[32m━━━━━━━━━━━━━━━━━━━━\u001b[0m\u001b[37m\u001b[0m \u001b[1m34s\u001b[0m 5ms/step - accuracy: 0.9983 - loss: 0.0041\n",
      "Epoch 12/50\n",
      "\u001b[1m6889/6889\u001b[0m \u001b[32m━━━━━━━━━━━━━━━━━━━━\u001b[0m\u001b[37m\u001b[0m \u001b[1m35s\u001b[0m 5ms/step - accuracy: 0.9984 - loss: 0.0038\n",
      "Epoch 13/50\n",
      "\u001b[1m6889/6889\u001b[0m \u001b[32m━━━━━━━━━━━━━━━━━━━━\u001b[0m\u001b[37m\u001b[0m \u001b[1m32s\u001b[0m 5ms/step - accuracy: 0.9984 - loss: 0.0042\n",
      "Epoch 14/50\n",
      "\u001b[1m6889/6889\u001b[0m \u001b[32m━━━━━━━━━━━━━━━━━━━━\u001b[0m\u001b[37m\u001b[0m \u001b[1m31s\u001b[0m 5ms/step - accuracy: 0.9985 - loss: 0.0036\n",
      "Epoch 15/50\n",
      "\u001b[1m6889/6889\u001b[0m \u001b[32m━━━━━━━━━━━━━━━━━━━━\u001b[0m\u001b[37m\u001b[0m \u001b[1m34s\u001b[0m 5ms/step - accuracy: 0.9984 - loss: 0.0036\n",
      "Epoch 16/50\n",
      "\u001b[1m6889/6889\u001b[0m \u001b[32m━━━━━━━━━━━━━━━━━━━━\u001b[0m\u001b[37m\u001b[0m \u001b[1m37s\u001b[0m 4ms/step - accuracy: 0.9986 - loss: 0.0035\n",
      "Epoch 17/50\n",
      "\u001b[1m6889/6889\u001b[0m \u001b[32m━━━━━━━━━━━━━━━━━━━━\u001b[0m\u001b[37m\u001b[0m \u001b[1m41s\u001b[0m 4ms/step - accuracy: 0.9989 - loss: 0.0030\n",
      "Epoch 18/50\n",
      "\u001b[1m6889/6889\u001b[0m \u001b[32m━━━━━━━━━━━━━━━━━━━━\u001b[0m\u001b[37m\u001b[0m \u001b[1m31s\u001b[0m 5ms/step - accuracy: 0.9989 - loss: 0.0028\n",
      "Epoch 19/50\n",
      "\u001b[1m6889/6889\u001b[0m \u001b[32m━━━━━━━━━━━━━━━━━━━━\u001b[0m\u001b[37m\u001b[0m \u001b[1m34s\u001b[0m 5ms/step - accuracy: 0.9988 - loss: 0.0029\n",
      "Epoch 20/50\n",
      "\u001b[1m6889/6889\u001b[0m \u001b[32m━━━━━━━━━━━━━━━━━━━━\u001b[0m\u001b[37m\u001b[0m \u001b[1m35s\u001b[0m 4ms/step - accuracy: 0.9989 - loss: 0.0027\n",
      "Epoch 21/50\n",
      "\u001b[1m6889/6889\u001b[0m \u001b[32m━━━━━━━━━━━━━━━━━━━━\u001b[0m\u001b[37m\u001b[0m \u001b[1m27s\u001b[0m 4ms/step - accuracy: 0.9990 - loss: 0.0026\n",
      "Epoch 22/50\n",
      "\u001b[1m6889/6889\u001b[0m \u001b[32m━━━━━━━━━━━━━━━━━━━━\u001b[0m\u001b[37m\u001b[0m \u001b[1m41s\u001b[0m 4ms/step - accuracy: 0.9992 - loss: 0.0021\n",
      "Epoch 23/50\n",
      "\u001b[1m6889/6889\u001b[0m \u001b[32m━━━━━━━━━━━━━━━━━━━━\u001b[0m\u001b[37m\u001b[0m \u001b[1m27s\u001b[0m 4ms/step - accuracy: 0.9991 - loss: 0.0022\n",
      "Epoch 24/50\n",
      "\u001b[1m6889/6889\u001b[0m \u001b[32m━━━━━━━━━━━━━━━━━━━━\u001b[0m\u001b[37m\u001b[0m \u001b[1m41s\u001b[0m 4ms/step - accuracy: 0.9991 - loss: 0.0022\n",
      "Epoch 25/50\n",
      "\u001b[1m6889/6889\u001b[0m \u001b[32m━━━━━━━━━━━━━━━━━━━━\u001b[0m\u001b[37m\u001b[0m \u001b[1m41s\u001b[0m 4ms/step - accuracy: 0.9993 - loss: 0.0019\n",
      "Epoch 26/50\n",
      "\u001b[1m6889/6889\u001b[0m \u001b[32m━━━━━━━━━━━━━━━━━━━━\u001b[0m\u001b[37m\u001b[0m \u001b[1m41s\u001b[0m 4ms/step - accuracy: 0.9993 - loss: 0.0019\n",
      "Epoch 27/50\n",
      "\u001b[1m6889/6889\u001b[0m \u001b[32m━━━━━━━━━━━━━━━━━━━━\u001b[0m\u001b[37m\u001b[0m \u001b[1m27s\u001b[0m 4ms/step - accuracy: 0.9994 - loss: 0.0016\n",
      "Epoch 28/50\n",
      "\u001b[1m6889/6889\u001b[0m \u001b[32m━━━━━━━━━━━━━━━━━━━━\u001b[0m\u001b[37m\u001b[0m \u001b[1m27s\u001b[0m 4ms/step - accuracy: 0.9993 - loss: 0.0018\n",
      "Epoch 29/50\n",
      "\u001b[1m6889/6889\u001b[0m \u001b[32m━━━━━━━━━━━━━━━━━━━━\u001b[0m\u001b[37m\u001b[0m \u001b[1m27s\u001b[0m 4ms/step - accuracy: 0.9995 - loss: 0.0016\n",
      "Epoch 30/50\n",
      "\u001b[1m6889/6889\u001b[0m \u001b[32m━━━━━━━━━━━━━━━━━━━━\u001b[0m\u001b[37m\u001b[0m \u001b[1m40s\u001b[0m 4ms/step - accuracy: 0.9994 - loss: 0.0017\n",
      "Epoch 31/50\n",
      "\u001b[1m6889/6889\u001b[0m \u001b[32m━━━━━━━━━━━━━━━━━━━━\u001b[0m\u001b[37m\u001b[0m \u001b[1m41s\u001b[0m 4ms/step - accuracy: 0.9995 - loss: 0.0015\n",
      "Epoch 32/50\n",
      "\u001b[1m6889/6889\u001b[0m \u001b[32m━━━━━━━━━━━━━━━━━━━━\u001b[0m\u001b[37m\u001b[0m \u001b[1m27s\u001b[0m 4ms/step - accuracy: 0.9995 - loss: 0.0016\n",
      "Epoch 33/50\n",
      "\u001b[1m6889/6889\u001b[0m \u001b[32m━━━━━━━━━━━━━━━━━━━━\u001b[0m\u001b[37m\u001b[0m \u001b[1m43s\u001b[0m 4ms/step - accuracy: 0.9994 - loss: 0.0016\n",
      "Epoch 34/50\n",
      "\u001b[1m6889/6889\u001b[0m \u001b[32m━━━━━━━━━━━━━━━━━━━━\u001b[0m\u001b[37m\u001b[0m \u001b[1m41s\u001b[0m 4ms/step - accuracy: 0.9994 - loss: 0.0016\n",
      "Epoch 35/50\n",
      "\u001b[1m6889/6889\u001b[0m \u001b[32m━━━━━━━━━━━━━━━━━━━━\u001b[0m\u001b[37m\u001b[0m \u001b[1m41s\u001b[0m 4ms/step - accuracy: 0.9995 - loss: 0.0014\n",
      "Epoch 36/50\n",
      "\u001b[1m6889/6889\u001b[0m \u001b[32m━━━━━━━━━━━━━━━━━━━━\u001b[0m\u001b[37m\u001b[0m \u001b[1m29s\u001b[0m 4ms/step - accuracy: 0.9994 - loss: 0.0016\n",
      "Epoch 37/50\n",
      "\u001b[1m6889/6889\u001b[0m \u001b[32m━━━━━━━━━━━━━━━━━━━━\u001b[0m\u001b[37m\u001b[0m \u001b[1m41s\u001b[0m 4ms/step - accuracy: 0.9995 - loss: 0.0014\n",
      "Epoch 38/50\n",
      "\u001b[1m6889/6889\u001b[0m \u001b[32m━━━━━━━━━━━━━━━━━━━━\u001b[0m\u001b[37m\u001b[0m \u001b[1m30s\u001b[0m 4ms/step - accuracy: 0.9995 - loss: 0.0014\n",
      "Epoch 39/50\n",
      "\u001b[1m6889/6889\u001b[0m \u001b[32m━━━━━━━━━━━━━━━━━━━━\u001b[0m\u001b[37m\u001b[0m \u001b[1m41s\u001b[0m 4ms/step - accuracy: 0.9995 - loss: 0.0015\n",
      "Epoch 40/50\n",
      "\u001b[1m6889/6889\u001b[0m \u001b[32m━━━━━━━━━━━━━━━━━━━━\u001b[0m\u001b[37m\u001b[0m \u001b[1m42s\u001b[0m 4ms/step - accuracy: 0.9996 - loss: 0.0013\n",
      "Epoch 41/50\n",
      "\u001b[1m6889/6889\u001b[0m \u001b[32m━━━━━━━━━━━━━━━━━━━━\u001b[0m\u001b[37m\u001b[0m \u001b[1m40s\u001b[0m 4ms/step - accuracy: 0.9996 - loss: 0.0011\n",
      "Epoch 42/50\n",
      "\u001b[1m6889/6889\u001b[0m \u001b[32m━━━━━━━━━━━━━━━━━━━━\u001b[0m\u001b[37m\u001b[0m \u001b[1m41s\u001b[0m 4ms/step - accuracy: 0.9996 - loss: 0.0011\n",
      "Epoch 43/50\n",
      "\u001b[1m6889/6889\u001b[0m \u001b[32m━━━━━━━━━━━━━━━━━━━━\u001b[0m\u001b[37m\u001b[0m \u001b[1m29s\u001b[0m 4ms/step - accuracy: 0.9995 - loss: 0.0013\n",
      "Epoch 44/50\n",
      "\u001b[1m6889/6889\u001b[0m \u001b[32m━━━━━━━━━━━━━━━━━━━━\u001b[0m\u001b[37m\u001b[0m \u001b[1m41s\u001b[0m 4ms/step - accuracy: 0.9996 - loss: 0.0011\n",
      "Epoch 45/50\n",
      "\u001b[1m6889/6889\u001b[0m \u001b[32m━━━━━━━━━━━━━━━━━━━━\u001b[0m\u001b[37m\u001b[0m \u001b[1m31s\u001b[0m 4ms/step - accuracy: 0.9996 - loss: 0.0012\n",
      "Epoch 46/50\n",
      "\u001b[1m6889/6889\u001b[0m \u001b[32m━━━━━━━━━━━━━━━━━━━━\u001b[0m\u001b[37m\u001b[0m \u001b[1m31s\u001b[0m 4ms/step - accuracy: 0.9995 - loss: 0.0012\n",
      "Epoch 47/50\n",
      "\u001b[1m6889/6889\u001b[0m \u001b[32m━━━━━━━━━━━━━━━━━━━━\u001b[0m\u001b[37m\u001b[0m \u001b[1m34s\u001b[0m 5ms/step - accuracy: 0.9996 - loss: 0.0012\n",
      "Epoch 48/50\n",
      "\u001b[1m6889/6889\u001b[0m \u001b[32m━━━━━━━━━━━━━━━━━━━━\u001b[0m\u001b[37m\u001b[0m \u001b[1m35s\u001b[0m 5ms/step - accuracy: 0.9996 - loss: 0.0011\n",
      "Epoch 49/50\n",
      "\u001b[1m6889/6889\u001b[0m \u001b[32m━━━━━━━━━━━━━━━━━━━━\u001b[0m\u001b[37m\u001b[0m \u001b[1m34s\u001b[0m 5ms/step - accuracy: 0.9997 - loss: 0.0010\n",
      "Epoch 50/50\n",
      "\u001b[1m6889/6889\u001b[0m \u001b[32m━━━━━━━━━━━━━━━━━━━━\u001b[0m\u001b[37m\u001b[0m \u001b[1m41s\u001b[0m 5ms/step - accuracy: 0.9997 - loss: 9.4714e-04\n"
     ]
    },
    {
     "data": {
      "text/plain": [
       "<keras.src.callbacks.history.History at 0x202107623f0>"
      ]
     },
     "execution_count": 39,
     "metadata": {},
     "output_type": "execute_result"
    }
   ],
   "source": [
    "ann.fit(x_train,y_train,batch_size=64,epochs=50)"
   ]
  },
  {
   "cell_type": "code",
   "execution_count": 50,
   "id": "64bdc44f-b75c-4973-9828-8a1303d9236d",
   "metadata": {},
   "outputs": [
    {
     "name": "stdout",
     "output_type": "stream",
     "text": [
      "\u001b[1m2012/2012\u001b[0m \u001b[32m━━━━━━━━━━━━━━━━━━━━\u001b[0m\u001b[37m\u001b[0m \u001b[1m5s\u001b[0m 2ms/step\n"
     ]
    }
   ],
   "source": [
    "prd=ann.predict(x_test)"
   ]
  },
  {
   "cell_type": "code",
   "execution_count": 52,
   "id": "4f83d29a-3b36-417b-8f6e-7e8b9491ce8e",
   "metadata": {},
   "outputs": [
    {
     "data": {
      "text/plain": [
       "array([[1.],\n",
       "       [1.],\n",
       "       [1.],\n",
       "       ...,\n",
       "       [0.],\n",
       "       [0.],\n",
       "       [0.]], dtype=float32)"
      ]
     },
     "execution_count": 52,
     "metadata": {},
     "output_type": "execute_result"
    }
   ],
   "source": [
    "prd"
   ]
  },
  {
   "cell_type": "code",
   "execution_count": 56,
   "id": "6a2bd0a6-0083-4c25-9e6a-a49951502dff",
   "metadata": {},
   "outputs": [],
   "source": [
    "prd_data=[]\n",
    "for i in prd :\n",
    " if i[0]>0.5:\n",
    "     prd_data.append(1)\n",
    " else:\n",
    "     prd_data.append(0)"
   ]
  },
  {
   "cell_type": "code",
   "execution_count": 64,
   "id": "f3140523-4637-49c8-a77f-d8f72d4dbe7d",
   "metadata": {},
   "outputs": [
    {
     "name": "stdout",
     "output_type": "stream",
     "text": [
      "\u001b[1m13777/13777\u001b[0m \u001b[32m━━━━━━━━━━━━━━━━━━━━\u001b[0m\u001b[37m\u001b[0m \u001b[1m32s\u001b[0m 2ms/step\n"
     ]
    }
   ],
   "source": [
    "prd1=ann.predict(x_train)"
   ]
  },
  {
   "cell_type": "code",
   "execution_count": 65,
   "id": "5ee4aee2-6131-400e-9245-40e8ed7c6ee4",
   "metadata": {},
   "outputs": [],
   "source": [
    "prd_data1=[]\n",
    "for i in prd1 :\n",
    " if i[0]>0.5:\n",
    "     prd_data1.append(1)\n",
    " else:\n",
    "     prd_data1.append(0)"
   ]
  },
  {
   "cell_type": "code",
   "execution_count": 68,
   "id": "e30e8d8b-7008-4faf-b933-45dfd527c2ac",
   "metadata": {},
   "outputs": [
    {
     "data": {
      "text/plain": [
       "0.5258023425606612"
      ]
     },
     "execution_count": 68,
     "metadata": {},
     "output_type": "execute_result"
    }
   ],
   "source": [
    "from sklearn.metrics import accuracy_score\n",
    "accuracy_score(y_test,prd_data) \n"
   ]
  },
  {
   "cell_type": "code",
   "execution_count": 70,
   "id": "c7dcd4bd-07e6-44a2-ba13-5b5a213b9a81",
   "metadata": {},
   "outputs": [
    {
     "data": {
      "text/plain": [
       "0.9995712662164584"
      ]
     },
     "execution_count": 70,
     "metadata": {},
     "output_type": "execute_result"
    }
   ],
   "source": [
    "accuracy_score(y_train,prd_data1) "
   ]
  },
  {
   "cell_type": "code",
   "execution_count": null,
   "id": "7247626f-30fd-46d3-939d-f8c237b836d5",
   "metadata": {},
   "outputs": [],
   "source": []
  },
  {
   "cell_type": "raw",
   "id": "089e34df-301e-494c-bacf-002b6208d52f",
   "metadata": {},
   "source": [
    "to check for overfitting : \n",
    "do what's below\n",
    "fit the model in this way >"
   ]
  },
  {
   "cell_type": "code",
   "execution_count": 72,
   "id": "3d8fe4b2-c5c6-4188-bd43-dea0cae01c64",
   "metadata": {},
   "outputs": [
    {
     "name": "stdout",
     "output_type": "stream",
     "text": [
      "Epoch 1/50\n",
      "\u001b[1m4409/4409\u001b[0m \u001b[32m━━━━━━━━━━━━━━━━━━━━\u001b[0m\u001b[37m\u001b[0m \u001b[1m24s\u001b[0m 5ms/step - accuracy: 0.9997 - loss: 8.7540e-04 - val_accuracy: 0.5258 - val_loss: 1887866.8750\n",
      "Epoch 2/50\n",
      "\u001b[1m4409/4409\u001b[0m \u001b[32m━━━━━━━━━━━━━━━━━━━━\u001b[0m\u001b[37m\u001b[0m \u001b[1m21s\u001b[0m 5ms/step - accuracy: 0.9997 - loss: 7.1094e-04 - val_accuracy: 0.5258 - val_loss: 2417090.7500\n",
      "Epoch 3/50\n",
      "\u001b[1m4409/4409\u001b[0m \u001b[32m━━━━━━━━━━━━━━━━━━━━\u001b[0m\u001b[37m\u001b[0m \u001b[1m24s\u001b[0m 5ms/step - accuracy: 0.9997 - loss: 0.0011 - val_accuracy: 0.5258 - val_loss: 2449468.5000\n",
      "Epoch 4/50\n",
      "\u001b[1m4409/4409\u001b[0m \u001b[32m━━━━━━━━━━━━━━━━━━━━\u001b[0m\u001b[37m\u001b[0m \u001b[1m23s\u001b[0m 5ms/step - accuracy: 0.9997 - loss: 8.4967e-04 - val_accuracy: 0.5258 - val_loss: 2709315.0000\n",
      "Epoch 5/50\n",
      "\u001b[1m4409/4409\u001b[0m \u001b[32m━━━━━━━━━━━━━━━━━━━━\u001b[0m\u001b[37m\u001b[0m \u001b[1m23s\u001b[0m 5ms/step - accuracy: 0.9998 - loss: 7.9669e-04 - val_accuracy: 0.5258 - val_loss: 1957854.3750\n",
      "Epoch 6/50\n",
      "\u001b[1m4409/4409\u001b[0m \u001b[32m━━━━━━━━━━━━━━━━━━━━\u001b[0m\u001b[37m\u001b[0m \u001b[1m24s\u001b[0m 5ms/step - accuracy: 0.9998 - loss: 7.0067e-04 - val_accuracy: 0.5257 - val_loss: 1524977.2500\n",
      "Epoch 7/50\n",
      "\u001b[1m4409/4409\u001b[0m \u001b[32m━━━━━━━━━━━━━━━━━━━━\u001b[0m\u001b[37m\u001b[0m \u001b[1m21s\u001b[0m 5ms/step - accuracy: 0.9997 - loss: 6.9893e-04 - val_accuracy: 0.5258 - val_loss: 1891371.1250\n",
      "Epoch 8/50\n",
      "\u001b[1m4409/4409\u001b[0m \u001b[32m━━━━━━━━━━━━━━━━━━━━\u001b[0m\u001b[37m\u001b[0m \u001b[1m21s\u001b[0m 5ms/step - accuracy: 0.9997 - loss: 9.1459e-04 - val_accuracy: 0.5258 - val_loss: 2059554.1250\n",
      "Epoch 9/50\n",
      "\u001b[1m4409/4409\u001b[0m \u001b[32m━━━━━━━━━━━━━━━━━━━━\u001b[0m\u001b[37m\u001b[0m \u001b[1m40s\u001b[0m 5ms/step - accuracy: 0.9998 - loss: 6.5214e-04 - val_accuracy: 0.5258 - val_loss: 2392381.7500\n",
      "Epoch 10/50\n",
      "\u001b[1m4409/4409\u001b[0m \u001b[32m━━━━━━━━━━━━━━━━━━━━\u001b[0m\u001b[37m\u001b[0m \u001b[1m20s\u001b[0m 4ms/step - accuracy: 0.9997 - loss: 7.2560e-04 - val_accuracy: 0.5258 - val_loss: 3283365.0000\n",
      "Epoch 11/50\n",
      "\u001b[1m4409/4409\u001b[0m \u001b[32m━━━━━━━━━━━━━━━━━━━━\u001b[0m\u001b[37m\u001b[0m \u001b[1m20s\u001b[0m 5ms/step - accuracy: 0.9997 - loss: 9.5067e-04 - val_accuracy: 0.5257 - val_loss: 2340066.7500\n",
      "Epoch 12/50\n",
      "\u001b[1m4409/4409\u001b[0m \u001b[32m━━━━━━━━━━━━━━━━━━━━\u001b[0m\u001b[37m\u001b[0m \u001b[1m20s\u001b[0m 5ms/step - accuracy: 0.9998 - loss: 5.4776e-04 - val_accuracy: 0.5257 - val_loss: 2350123.0000\n",
      "Epoch 13/50\n",
      "\u001b[1m4409/4409\u001b[0m \u001b[32m━━━━━━━━━━━━━━━━━━━━\u001b[0m\u001b[37m\u001b[0m \u001b[1m20s\u001b[0m 4ms/step - accuracy: 0.9998 - loss: 7.0999e-04 - val_accuracy: 0.5258 - val_loss: 1526865.7500\n",
      "Epoch 14/50\n",
      "\u001b[1m4409/4409\u001b[0m \u001b[32m━━━━━━━━━━━━━━━━━━━━\u001b[0m\u001b[37m\u001b[0m \u001b[1m22s\u001b[0m 5ms/step - accuracy: 0.9998 - loss: 5.8711e-04 - val_accuracy: 0.5257 - val_loss: 1126704.8750\n",
      "Epoch 15/50\n",
      "\u001b[1m4409/4409\u001b[0m \u001b[32m━━━━━━━━━━━━━━━━━━━━\u001b[0m\u001b[37m\u001b[0m \u001b[1m22s\u001b[0m 5ms/step - accuracy: 0.9998 - loss: 6.9111e-04 - val_accuracy: 0.5258 - val_loss: 1767770.6250\n",
      "Epoch 16/50\n",
      "\u001b[1m4409/4409\u001b[0m \u001b[32m━━━━━━━━━━━━━━━━━━━━\u001b[0m\u001b[37m\u001b[0m \u001b[1m24s\u001b[0m 5ms/step - accuracy: 0.9998 - loss: 6.4554e-04 - val_accuracy: 0.5256 - val_loss: 913492.0000\n",
      "Epoch 17/50\n",
      "\u001b[1m4409/4409\u001b[0m \u001b[32m━━━━━━━━━━━━━━━━━━━━\u001b[0m\u001b[37m\u001b[0m \u001b[1m26s\u001b[0m 6ms/step - accuracy: 0.9998 - loss: 6.9535e-04 - val_accuracy: 0.5258 - val_loss: 2439247.2500\n",
      "Epoch 18/50\n",
      "\u001b[1m4409/4409\u001b[0m \u001b[32m━━━━━━━━━━━━━━━━━━━━\u001b[0m\u001b[37m\u001b[0m \u001b[1m38s\u001b[0m 5ms/step - accuracy: 0.9998 - loss: 4.7369e-04 - val_accuracy: 0.5257 - val_loss: 2174506.2500\n",
      "Epoch 19/50\n",
      "\u001b[1m4409/4409\u001b[0m \u001b[32m━━━━━━━━━━━━━━━━━━━━\u001b[0m\u001b[37m\u001b[0m \u001b[1m23s\u001b[0m 5ms/step - accuracy: 0.9997 - loss: 6.8121e-04 - val_accuracy: 0.5257 - val_loss: 1182284.8750\n",
      "Epoch 20/50\n",
      "\u001b[1m4409/4409\u001b[0m \u001b[32m━━━━━━━━━━━━━━━━━━━━\u001b[0m\u001b[37m\u001b[0m \u001b[1m23s\u001b[0m 5ms/step - accuracy: 0.9998 - loss: 6.0999e-04 - val_accuracy: 0.5257 - val_loss: 1679428.0000\n",
      "Epoch 21/50\n",
      "\u001b[1m4409/4409\u001b[0m \u001b[32m━━━━━━━━━━━━━━━━━━━━\u001b[0m\u001b[37m\u001b[0m \u001b[1m22s\u001b[0m 5ms/step - accuracy: 0.9998 - loss: 5.9698e-04 - val_accuracy: 0.5256 - val_loss: 2095084.8750\n",
      "Epoch 22/50\n",
      "\u001b[1m4409/4409\u001b[0m \u001b[32m━━━━━━━━━━━━━━━━━━━━\u001b[0m\u001b[37m\u001b[0m \u001b[1m23s\u001b[0m 5ms/step - accuracy: 0.9998 - loss: 5.9112e-04 - val_accuracy: 0.5257 - val_loss: 1606578.3750\n",
      "Epoch 23/50\n",
      "\u001b[1m4409/4409\u001b[0m \u001b[32m━━━━━━━━━━━━━━━━━━━━\u001b[0m\u001b[37m\u001b[0m \u001b[1m23s\u001b[0m 5ms/step - accuracy: 0.9998 - loss: 6.4532e-04 - val_accuracy: 0.5258 - val_loss: 1820437.7500\n",
      "Epoch 24/50\n",
      "\u001b[1m4409/4409\u001b[0m \u001b[32m━━━━━━━━━━━━━━━━━━━━\u001b[0m\u001b[37m\u001b[0m \u001b[1m21s\u001b[0m 5ms/step - accuracy: 0.9998 - loss: 6.2841e-04 - val_accuracy: 0.5257 - val_loss: 2672082.2500\n",
      "Epoch 25/50\n",
      "\u001b[1m4409/4409\u001b[0m \u001b[32m━━━━━━━━━━━━━━━━━━━━\u001b[0m\u001b[37m\u001b[0m \u001b[1m40s\u001b[0m 5ms/step - accuracy: 0.9998 - loss: 5.8632e-04 - val_accuracy: 0.5257 - val_loss: 2665429.0000\n",
      "Epoch 26/50\n",
      "\u001b[1m4409/4409\u001b[0m \u001b[32m━━━━━━━━━━━━━━━━━━━━\u001b[0m\u001b[37m\u001b[0m \u001b[1m22s\u001b[0m 5ms/step - accuracy: 0.9998 - loss: 5.1693e-04 - val_accuracy: 0.5258 - val_loss: 3393456.0000\n",
      "Epoch 27/50\n",
      "\u001b[1m4409/4409\u001b[0m \u001b[32m━━━━━━━━━━━━━━━━━━━━\u001b[0m\u001b[37m\u001b[0m \u001b[1m20s\u001b[0m 5ms/step - accuracy: 0.9998 - loss: 5.1693e-04 - val_accuracy: 0.5258 - val_loss: 2625538.2500\n",
      "Epoch 28/50\n",
      "\u001b[1m4409/4409\u001b[0m \u001b[32m━━━━━━━━━━━━━━━━━━━━\u001b[0m\u001b[37m\u001b[0m \u001b[1m22s\u001b[0m 5ms/step - accuracy: 0.9998 - loss: 8.4494e-04 - val_accuracy: 0.5258 - val_loss: 3791007.2500\n",
      "Epoch 29/50\n",
      "\u001b[1m4409/4409\u001b[0m \u001b[32m━━━━━━━━━━━━━━━━━━━━\u001b[0m\u001b[37m\u001b[0m \u001b[1m21s\u001b[0m 5ms/step - accuracy: 0.9998 - loss: 6.9341e-04 - val_accuracy: 0.5258 - val_loss: 2733749.0000\n",
      "Epoch 30/50\n",
      "\u001b[1m4409/4409\u001b[0m \u001b[32m━━━━━━━━━━━━━━━━━━━━\u001b[0m\u001b[37m\u001b[0m \u001b[1m23s\u001b[0m 5ms/step - accuracy: 0.9998 - loss: 5.8851e-04 - val_accuracy: 0.5258 - val_loss: 2987221.5000\n",
      "Epoch 31/50\n",
      "\u001b[1m4409/4409\u001b[0m \u001b[32m━━━━━━━━━━━━━━━━━━━━\u001b[0m\u001b[37m\u001b[0m \u001b[1m21s\u001b[0m 5ms/step - accuracy: 0.9999 - loss: 3.3975e-04 - val_accuracy: 0.5256 - val_loss: 2564323.0000\n",
      "Epoch 32/50\n",
      "\u001b[1m4409/4409\u001b[0m \u001b[32m━━━━━━━━━━━━━━━━━━━━\u001b[0m\u001b[37m\u001b[0m \u001b[1m21s\u001b[0m 5ms/step - accuracy: 0.9998 - loss: 6.5184e-04 - val_accuracy: 0.5258 - val_loss: 3294436.7500\n",
      "Epoch 33/50\n",
      "\u001b[1m4409/4409\u001b[0m \u001b[32m━━━━━━━━━━━━━━━━━━━━\u001b[0m\u001b[37m\u001b[0m \u001b[1m22s\u001b[0m 5ms/step - accuracy: 0.9998 - loss: 6.1440e-04 - val_accuracy: 0.5258 - val_loss: 2914820.2500\n",
      "Epoch 34/50\n",
      "\u001b[1m4409/4409\u001b[0m \u001b[32m━━━━━━━━━━━━━━━━━━━━\u001b[0m\u001b[37m\u001b[0m \u001b[1m20s\u001b[0m 5ms/step - accuracy: 0.9998 - loss: 4.9609e-04 - val_accuracy: 0.5257 - val_loss: 2450233.7500\n",
      "Epoch 35/50\n",
      "\u001b[1m4409/4409\u001b[0m \u001b[32m━━━━━━━━━━━━━━━━━━━━\u001b[0m\u001b[37m\u001b[0m \u001b[1m22s\u001b[0m 5ms/step - accuracy: 0.9998 - loss: 5.3392e-04 - val_accuracy: 0.5257 - val_loss: 2894125.0000\n",
      "Epoch 36/50\n",
      "\u001b[1m4409/4409\u001b[0m \u001b[32m━━━━━━━━━━━━━━━━━━━━\u001b[0m\u001b[37m\u001b[0m \u001b[1m21s\u001b[0m 5ms/step - accuracy: 0.9998 - loss: 5.7932e-04 - val_accuracy: 0.5256 - val_loss: 2684639.2500\n",
      "Epoch 37/50\n",
      "\u001b[1m4409/4409\u001b[0m \u001b[32m━━━━━━━━━━━━━━━━━━━━\u001b[0m\u001b[37m\u001b[0m \u001b[1m20s\u001b[0m 5ms/step - accuracy: 0.9999 - loss: 5.3193e-04 - val_accuracy: 0.5258 - val_loss: 2664500.0000\n",
      "Epoch 38/50\n",
      "\u001b[1m4409/4409\u001b[0m \u001b[32m━━━━━━━━━━━━━━━━━━━━\u001b[0m\u001b[37m\u001b[0m \u001b[1m22s\u001b[0m 5ms/step - accuracy: 0.9998 - loss: 5.9837e-04 - val_accuracy: 0.5257 - val_loss: 2788760.7500\n",
      "Epoch 39/50\n",
      "\u001b[1m4409/4409\u001b[0m \u001b[32m━━━━━━━━━━━━━━━━━━━━\u001b[0m\u001b[37m\u001b[0m \u001b[1m21s\u001b[0m 5ms/step - accuracy: 0.9998 - loss: 5.8710e-04 - val_accuracy: 0.5256 - val_loss: 1924012.5000\n",
      "Epoch 40/50\n",
      "\u001b[1m4409/4409\u001b[0m \u001b[32m━━━━━━━━━━━━━━━━━━━━\u001b[0m\u001b[37m\u001b[0m \u001b[1m21s\u001b[0m 5ms/step - accuracy: 0.9999 - loss: 4.3306e-04 - val_accuracy: 0.5256 - val_loss: 2400271.0000\n",
      "Epoch 41/50\n",
      "\u001b[1m4409/4409\u001b[0m \u001b[32m━━━━━━━━━━━━━━━━━━━━\u001b[0m\u001b[37m\u001b[0m \u001b[1m22s\u001b[0m 5ms/step - accuracy: 0.9998 - loss: 5.1785e-04 - val_accuracy: 0.5254 - val_loss: 1564665.1250\n",
      "Epoch 42/50\n",
      "\u001b[1m4409/4409\u001b[0m \u001b[32m━━━━━━━━━━━━━━━━━━━━\u001b[0m\u001b[37m\u001b[0m \u001b[1m21s\u001b[0m 5ms/step - accuracy: 0.9999 - loss: 4.3581e-04 - val_accuracy: 0.5250 - val_loss: 1360241.1250\n",
      "Epoch 43/50\n",
      "\u001b[1m4409/4409\u001b[0m \u001b[32m━━━━━━━━━━━━━━━━━━━━\u001b[0m\u001b[37m\u001b[0m \u001b[1m21s\u001b[0m 5ms/step - accuracy: 0.9998 - loss: 5.0392e-04 - val_accuracy: 0.5252 - val_loss: 2266212.5000\n",
      "Epoch 44/50\n",
      "\u001b[1m4409/4409\u001b[0m \u001b[32m━━━━━━━━━━━━━━━━━━━━\u001b[0m\u001b[37m\u001b[0m \u001b[1m23s\u001b[0m 5ms/step - accuracy: 0.9998 - loss: 5.7267e-04 - val_accuracy: 0.5258 - val_loss: 2738330.0000\n",
      "Epoch 45/50\n",
      "\u001b[1m4409/4409\u001b[0m \u001b[32m━━━━━━━━━━━━━━━━━━━━\u001b[0m\u001b[37m\u001b[0m \u001b[1m21s\u001b[0m 5ms/step - accuracy: 0.9999 - loss: 3.3737e-04 - val_accuracy: 0.5255 - val_loss: 1717358.1250\n",
      "Epoch 46/50\n",
      "\u001b[1m4409/4409\u001b[0m \u001b[32m━━━━━━━━━━━━━━━━━━━━\u001b[0m\u001b[37m\u001b[0m \u001b[1m21s\u001b[0m 5ms/step - accuracy: 0.9998 - loss: 6.1100e-04 - val_accuracy: 0.5258 - val_loss: 3497106.7500\n",
      "Epoch 47/50\n",
      "\u001b[1m4409/4409\u001b[0m \u001b[32m━━━━━━━━━━━━━━━━━━━━\u001b[0m\u001b[37m\u001b[0m \u001b[1m22s\u001b[0m 5ms/step - accuracy: 0.9998 - loss: 5.6229e-04 - val_accuracy: 0.5258 - val_loss: 3656385.2500\n",
      "Epoch 48/50\n",
      "\u001b[1m4409/4409\u001b[0m \u001b[32m━━━━━━━━━━━━━━━━━━━━\u001b[0m\u001b[37m\u001b[0m \u001b[1m24s\u001b[0m 5ms/step - accuracy: 0.9998 - loss: 5.8663e-04 - val_accuracy: 0.5255 - val_loss: 2199713.2500\n",
      "Epoch 49/50\n",
      "\u001b[1m4409/4409\u001b[0m \u001b[32m━━━━━━━━━━━━━━━━━━━━\u001b[0m\u001b[37m\u001b[0m \u001b[1m25s\u001b[0m 6ms/step - accuracy: 0.9998 - loss: 5.9468e-04 - val_accuracy: 0.5258 - val_loss: 3069767.0000\n",
      "Epoch 50/50\n",
      "\u001b[1m4409/4409\u001b[0m \u001b[32m━━━━━━━━━━━━━━━━━━━━\u001b[0m\u001b[37m\u001b[0m \u001b[1m24s\u001b[0m 5ms/step - accuracy: 0.9999 - loss: 4.1343e-04 - val_accuracy: 0.5257 - val_loss: 3018050.0000\n"
     ]
    },
    {
     "data": {
      "text/plain": [
       "<keras.src.callbacks.history.History at 0x2021600b290>"
      ]
     },
     "execution_count": 72,
     "metadata": {},
     "output_type": "execute_result"
    }
   ],
   "source": [
    "ann.fit(x_train,y_train,batch_size=100,epochs=50,validation_data=(x_test,y_test))"
   ]
  },
  {
   "cell_type": "code",
   "execution_count": 73,
   "id": "194b4b83-b3b7-45ee-b668-1b0815ef78c3",
   "metadata": {},
   "outputs": [
    {
     "data": {
      "text/plain": [
       "{'accuracy': [0.9997074007987976,\n",
       "  0.9997028112411499,\n",
       "  0.9997232556343079,\n",
       "  0.9997005462646484,\n",
       "  0.999714195728302,\n",
       "  0.9997119307518005,\n",
       "  0.9997323155403137,\n",
       "  0.999698281288147,\n",
       "  0.9997799396514893,\n",
       "  0.9997482299804688,\n",
       "  0.9997096657752991,\n",
       "  0.9997731447219849,\n",
       "  0.9997209906578064,\n",
       "  0.9997754096984863,\n",
       "  0.9997300505638123,\n",
       "  0.9997867941856384,\n",
       "  0.9997345805168152,\n",
       "  0.9997844696044922,\n",
       "  0.9997482299804688,\n",
       "  0.9997799396514893,\n",
       "  0.9997799396514893,\n",
       "  0.9997708797454834,\n",
       "  0.9997754096984863,\n",
       "  0.9997618198394775,\n",
       "  0.9997822046279907,\n",
       "  0.9998185038566589,\n",
       "  0.9998049139976501,\n",
       "  0.9998185038566589,\n",
       "  0.9997890591621399,\n",
       "  0.9997731447219849,\n",
       "  0.9998230338096619,\n",
       "  0.9997867941856384,\n",
       "  0.9997981190681458,\n",
       "  0.9998253583908081,\n",
       "  0.9998230338096619,\n",
       "  0.9998185038566589,\n",
       "  0.9998321533203125,\n",
       "  0.9998230338096619,\n",
       "  0.9997890591621399,\n",
       "  0.9998094439506531,\n",
       "  0.9997776746749878,\n",
       "  0.999829888343811,\n",
       "  0.9998162388801575,\n",
       "  0.9998253583908081,\n",
       "  0.9998593330383301,\n",
       "  0.9998207688331604,\n",
       "  0.999829888343811,\n",
       "  0.999829888343811,\n",
       "  0.9998094439506531,\n",
       "  0.999829888343811],\n",
       " 'loss': [0.0008443818660452962,\n",
       "  0.0007823770283721387,\n",
       "  0.0008830906008370221,\n",
       "  0.0008048559539020061,\n",
       "  0.0008773654117248952,\n",
       "  0.0008105206652544439,\n",
       "  0.0008026643772609532,\n",
       "  0.0009229119750671089,\n",
       "  0.0007003637147136033,\n",
       "  0.0006969207897782326,\n",
       "  0.0008638865547254682,\n",
       "  0.0006323325214907527,\n",
       "  0.0008670221432112157,\n",
       "  0.0006633397424593568,\n",
       "  0.0007975327898748219,\n",
       "  0.0006717062788084149,\n",
       "  0.0007533886237069964,\n",
       "  0.0006262232782319188,\n",
       "  0.0007059681811369956,\n",
       "  0.0006386818131431937,\n",
       "  0.0006405729800462723,\n",
       "  0.0006410103524103761,\n",
       "  0.0006396903190761805,\n",
       "  0.0006016415427438915,\n",
       "  0.0006397672696039081,\n",
       "  0.0005539929843507707,\n",
       "  0.0005392451421357691,\n",
       "  0.0006303034024313092,\n",
       "  0.0006586010567843914,\n",
       "  0.0006455518887378275,\n",
       "  0.000534448423422873,\n",
       "  0.000585753470659256,\n",
       "  0.0006168256513774395,\n",
       "  0.0005626311176456511,\n",
       "  0.0005410171579569578,\n",
       "  0.0006226077093742788,\n",
       "  0.0005435820785351098,\n",
       "  0.0005896445945836604,\n",
       "  0.0006168729742057621,\n",
       "  0.0005255088908597827,\n",
       "  0.0005635563866235316,\n",
       "  0.0005358097259886563,\n",
       "  0.000532447942532599,\n",
       "  0.0005529074696823955,\n",
       "  0.00047755736159160733,\n",
       "  0.0005607102066278458,\n",
       "  0.0005447835428640246,\n",
       "  0.0005346310790628195,\n",
       "  0.0005494505167007446,\n",
       "  0.0004913845914416015],\n",
       " 'val_accuracy': [0.5258023142814636,\n",
       "  0.5258023142814636,\n",
       "  0.525786817073822,\n",
       "  0.5257712602615356,\n",
       "  0.525786817073822,\n",
       "  0.5256780982017517,\n",
       "  0.52581787109375,\n",
       "  0.5258023142814636,\n",
       "  0.5257712602615356,\n",
       "  0.525786817073822,\n",
       "  0.5256625413894653,\n",
       "  0.5256625413894653,\n",
       "  0.525786817073822,\n",
       "  0.5257091522216797,\n",
       "  0.525786817073822,\n",
       "  0.525646984577179,\n",
       "  0.5258023142814636,\n",
       "  0.5257091522216797,\n",
       "  0.5257402062416077,\n",
       "  0.5257402062416077,\n",
       "  0.525553822517395,\n",
       "  0.5257402062416077,\n",
       "  0.5257712602615356,\n",
       "  0.5257402062416077,\n",
       "  0.5256625413894653,\n",
       "  0.525786817073822,\n",
       "  0.5257712602615356,\n",
       "  0.525848925113678,\n",
       "  0.5258334279060364,\n",
       "  0.5258334279060364,\n",
       "  0.525553822517395,\n",
       "  0.525786817073822,\n",
       "  0.52581787109375,\n",
       "  0.5257402062416077,\n",
       "  0.5256935954093933,\n",
       "  0.525584876537323,\n",
       "  0.525755763053894,\n",
       "  0.5257402062416077,\n",
       "  0.525553822517395,\n",
       "  0.525646984577179,\n",
       "  0.5254450440406799,\n",
       "  0.5249790549278259,\n",
       "  0.5252431035041809,\n",
       "  0.525786817073822,\n",
       "  0.5254916548728943,\n",
       "  0.525786817073822,\n",
       "  0.525786817073822,\n",
       "  0.5254916548728943,\n",
       "  0.5258023142814636,\n",
       "  0.5257402062416077],\n",
       " 'val_loss': [1887866.875,\n",
       "  2417090.75,\n",
       "  2449468.5,\n",
       "  2709315.0,\n",
       "  1957854.375,\n",
       "  1524977.25,\n",
       "  1891371.125,\n",
       "  2059554.125,\n",
       "  2392381.75,\n",
       "  3283365.0,\n",
       "  2340066.75,\n",
       "  2350123.0,\n",
       "  1526865.75,\n",
       "  1126704.875,\n",
       "  1767770.625,\n",
       "  913492.0,\n",
       "  2439247.25,\n",
       "  2174506.25,\n",
       "  1182284.875,\n",
       "  1679428.0,\n",
       "  2095084.875,\n",
       "  1606578.375,\n",
       "  1820437.75,\n",
       "  2672082.25,\n",
       "  2665429.0,\n",
       "  3393456.0,\n",
       "  2625538.25,\n",
       "  3791007.25,\n",
       "  2733749.0,\n",
       "  2987221.5,\n",
       "  2564323.0,\n",
       "  3294436.75,\n",
       "  2914820.25,\n",
       "  2450233.75,\n",
       "  2894125.0,\n",
       "  2684639.25,\n",
       "  2664500.0,\n",
       "  2788760.75,\n",
       "  1924012.5,\n",
       "  2400271.0,\n",
       "  1564665.125,\n",
       "  1360241.125,\n",
       "  2266212.5,\n",
       "  2738330.0,\n",
       "  1717358.125,\n",
       "  3497106.75,\n",
       "  3656385.25,\n",
       "  2199713.25,\n",
       "  3069767.0,\n",
       "  3018050.0]}"
      ]
     },
     "execution_count": 73,
     "metadata": {},
     "output_type": "execute_result"
    }
   ],
   "source": [
    "ann.history.history "
   ]
  },
  {
   "cell_type": "code",
   "execution_count": 77,
   "id": "ed702f53-8fd0-4130-93de-e1aee38a9cb6",
   "metadata": {},
   "outputs": [],
   "source": [
    "train_accuracy=ann.history.history[\"accuracy\"]\n",
    "test_accuracy=ann.history.history[\"val_accuracy\"]"
   ]
  },
  {
   "cell_type": "code",
   "execution_count": 79,
   "id": "c8eec6f3-93d6-4bfd-ae4b-987bd3e62d64",
   "metadata": {},
   "outputs": [
    {
     "data": {
      "text/plain": [
       "50"
      ]
     },
     "execution_count": 79,
     "metadata": {},
     "output_type": "execute_result"
    }
   ],
   "source": [
    "len(test_accuracy)"
   ]
  },
  {
   "cell_type": "code",
   "execution_count": 91,
   "id": "b4b7e1b9-162a-498e-9e53-9715b646f543",
   "metadata": {},
   "outputs": [],
   "source": [
    "import matplotlib.pyplot as plt"
   ]
  },
  {
   "cell_type": "code",
   "execution_count": 93,
   "id": "462149c9-cdc7-4c5e-996c-2da5b1b063b5",
   "metadata": {},
   "outputs": [
    {
     "data": {
      "image/png": "[encoded data removed]",
      "text/plain": [
       "<Figure size 640x480 with 1 Axes>"
      ]
     },
     "metadata": {},
     "output_type": "display_data"
    }
   ],
   "source": [
    "plt.plot([i for i in range (1,51)],train_accuracy)\n",
    "plt.plot([i for i in range(1,51)],test_accuracy,c=\"red\")\n",
    "plt.show()"
   ]
  },
  {
   "cell_type": "raw",
   "id": "81f88f88-26a6-44e6-862c-f7dea958d2f6",
   "metadata": {},
   "source": [
    "can see it is overfitted so try "
   ]
  },
  {
   "cell_type": "markdown",
   "id": "c5e745e2-6260-42da-b173-05a2cd580a15",
   "metadata": {},
   "source": [
    "# Early stopping ,dropout layer , Batch Normalization and Regularization"
   ]
  },
  {
   "cell_type": "code",
   "execution_count": 135,
   "id": "30563863-e6de-4726-af0c-d3a3504ef1cc",
   "metadata": {},
   "outputs": [],
   "source": [
    "from keras.callbacks import EarlyStopping\n",
    "from keras.layers import Dropout,BatchNormalization\n",
    "from keras.regularizers import L2"
   ]
  },
  {
   "cell_type": "code",
   "execution_count": 147,
   "id": "a99c3f09-ba9c-492f-a415-5cbdbac0c9cf",
   "metadata": {},
   "outputs": [
    {
     "name": "stderr",
     "output_type": "stream",
     "text": [
      "C:\\Users\\divya\\anaconda3\\Lib\\site-packages\\keras\\src\\layers\\core\\dense.py:87: UserWarning: Do not pass an `input_shape`/`input_dim` argument to a layer. When using Sequential models, prefer using an `Input(shape)` object as the first layer in the model instead.\n",
      "  super().__init__(activity_regularizer=activity_regularizer, **kwargs)\n"
     ]
    }
   ],
   "source": [
    "ann.add(Dense(64,input_dim=11,activation=\"relu\",kernel_regularizer=L2(l2=0.01)))\n",
    "ann.add(Dropout(0.8))\n",
    "ann.add(BatchNormalization())\n",
    "\n",
    "ann.add(Dense(32,activation=\"relu\",kernel_regularizer=L2(l2=0.01)))\n",
    "ann.add(Dropout(0.8))\n",
    "ann.add(BatchNormalization())\n",
    "\n",
    "ann.add(Dense(16,activation=\"relu\",kernel_regularizer=L2(l2=0.01)))\n",
    "ann.add(Dropout(0.8))\n",
    "ann.add(BatchNormalization())\n",
    "\n",
    "ann.add(Dense(8,activation=\"relu\",kernel_regularizer=L2(l2=0.01)))\n",
    "ann.add(Dropout(0.8))\n",
    "ann.add(BatchNormalization())\n",
    "\n",
    "ann.add(Dense(1, activation=\"sigmoid\"))\n"
   ]
  },
  {
   "cell_type": "code",
   "execution_count": 149,
   "id": "e7ce3059-8431-4387-84f6-a45da61e893f",
   "metadata": {},
   "outputs": [],
   "source": [
    "ann.compile(optimizer=\"adam\",loss=\"binary_crossentropy\",metrics=['accuracy'])"
   ]
  },
  {
   "cell_type": "code",
   "execution_count": 163,
   "id": "ed0a3479-4f3f-4f08-8b40-ea7d4e3da613",
   "metadata": {},
   "outputs": [
    {
     "data": {
      "text/plain": [
       "<keras.src.callbacks.early_stopping.EarlyStopping at 0x20229e4f0b0>"
      ]
     },
     "execution_count": 163,
     "metadata": {},
     "output_type": "execute_result"
    }
   ],
   "source": [
    "EarlyStopping(patience=5, restore_best_weights=True)\n"
   ]
  },
  {
   "cell_type": "code",
   "execution_count": 167,
   "id": "7a4a4427-388d-4bdc-a8a7-5ab4799a2e54",
   "metadata": {},
   "outputs": [
    {
     "name": "stdout",
     "output_type": "stream",
     "text": [
      "Epoch 1/50\n",
      "\u001b[1m4409/4409\u001b[0m \u001b[32m━━━━━━━━━━━━━━━━━━━━\u001b[0m\u001b[37m\u001b[0m \u001b[1m76s\u001b[0m 17ms/step - accuracy: 0.5681 - loss: 0.6839 - val_accuracy: 0.4737 - val_loss: 0.7098\n",
      "Epoch 2/50\n",
      "\u001b[1m4409/4409\u001b[0m \u001b[32m━━━━━━━━━━━━━━━━━━━━\u001b[0m\u001b[37m\u001b[0m \u001b[1m79s\u001b[0m 18ms/step - accuracy: 0.5670 - loss: 0.6841 - val_accuracy: 0.4737 - val_loss: 0.7083\n",
      "Epoch 3/50\n",
      "\u001b[1m4409/4409\u001b[0m \u001b[32m━━━━━━━━━━━━━━━━━━━━\u001b[0m\u001b[37m\u001b[0m \u001b[1m76s\u001b[0m 17ms/step - accuracy: 0.5681 - loss: 0.6839 - val_accuracy: 0.4737 - val_loss: 0.7091\n",
      "Epoch 4/50\n",
      "\u001b[1m4409/4409\u001b[0m \u001b[32m━━━━━━━━━━━━━━━━━━━━\u001b[0m\u001b[37m\u001b[0m \u001b[1m78s\u001b[0m 18ms/step - accuracy: 0.5679 - loss: 0.6839 - val_accuracy: 0.4737 - val_loss: 0.7099\n",
      "Epoch 5/50\n",
      "\u001b[1m4409/4409\u001b[0m \u001b[32m━━━━━━━━━━━━━━━━━━━━\u001b[0m\u001b[37m\u001b[0m \u001b[1m75s\u001b[0m 17ms/step - accuracy: 0.5671 - loss: 0.6841 - val_accuracy: 0.4737 - val_loss: 0.7093\n",
      "Epoch 6/50\n",
      "\u001b[1m4409/4409\u001b[0m \u001b[32m━━━━━━━━━━━━━━━━━━━━\u001b[0m\u001b[37m\u001b[0m \u001b[1m75s\u001b[0m 17ms/step - accuracy: 0.5665 - loss: 0.6843 - val_accuracy: 0.4737 - val_loss: 0.7104\n",
      "Epoch 7/50\n",
      "\u001b[1m4409/4409\u001b[0m \u001b[32m━━━━━━━━━━━━━━━━━━━━\u001b[0m\u001b[37m\u001b[0m \u001b[1m77s\u001b[0m 17ms/step - accuracy: 0.5659 - loss: 0.6844 - val_accuracy: 0.4737 - val_loss: 0.7116\n",
      "Epoch 8/50\n",
      "\u001b[1m4409/4409\u001b[0m \u001b[32m━━━━━━━━━━━━━━━━━━━━\u001b[0m\u001b[37m\u001b[0m \u001b[1m77s\u001b[0m 17ms/step - accuracy: 0.5684 - loss: 0.6838 - val_accuracy: 0.4737 - val_loss: 0.7098\n",
      "Epoch 9/50\n",
      "\u001b[1m4409/4409\u001b[0m \u001b[32m━━━━━━━━━━━━━━━━━━━━\u001b[0m\u001b[37m\u001b[0m \u001b[1m77s\u001b[0m 17ms/step - accuracy: 0.5680 - loss: 0.6839 - val_accuracy: 0.4737 - val_loss: 0.7089\n",
      "Epoch 10/50\n",
      "\u001b[1m4409/4409\u001b[0m \u001b[32m━━━━━━━━━━━━━━━━━━━━\u001b[0m\u001b[37m\u001b[0m \u001b[1m78s\u001b[0m 18ms/step - accuracy: 0.5667 - loss: 0.6842 - val_accuracy: 0.4737 - val_loss: 0.7088\n",
      "Epoch 11/50\n",
      "\u001b[1m4409/4409\u001b[0m \u001b[32m━━━━━━━━━━━━━━━━━━━━\u001b[0m\u001b[37m\u001b[0m \u001b[1m82s\u001b[0m 18ms/step - accuracy: 0.5665 - loss: 0.6843 - val_accuracy: 0.4737 - val_loss: 0.7096\n",
      "Epoch 12/50\n",
      "\u001b[1m4409/4409\u001b[0m \u001b[32m━━━━━━━━━━━━━━━━━━━━\u001b[0m\u001b[37m\u001b[0m \u001b[1m84s\u001b[0m 18ms/step - accuracy: 0.5680 - loss: 0.6839 - val_accuracy: 0.4737 - val_loss: 0.7093\n"
     ]
    },
    {
     "data": {
      "text/plain": [
       "<keras.src.callbacks.history.History at 0x2023ce2caa0>"
      ]
     },
     "execution_count": 167,
     "metadata": {},
     "output_type": "execute_result"
    }
   ],
   "source": [
    "ann.fit(x_train,y_train,batch_size=100,epochs=50,validation_data=(x_test,y_test),callbacks=EarlyStopping(patience=10, restore_best_weights=True))"
   ]
  },
  {
   "cell_type": "code",
   "execution_count": 169,
   "id": "4048fbb9-1f73-4382-bf2e-ed073446f5be",
   "metadata": {},
   "outputs": [
    {
     "data": {
      "text/plain": [
       "{'accuracy': [0.567108154296875,\n",
       "  0.567108154296875,\n",
       "  0.567108154296875,\n",
       "  0.567108154296875,\n",
       "  0.567108154296875,\n",
       "  0.567108154296875,\n",
       "  0.567108154296875,\n",
       "  0.567108154296875,\n",
       "  0.567108154296875,\n",
       "  0.567108154296875,\n",
       "  0.567108154296875,\n",
       "  0.567108154296875],\n",
       " 'loss': [0.6841262578964233,\n",
       "  0.6841221451759338,\n",
       "  0.6841299533843994,\n",
       "  0.6841307878494263,\n",
       "  0.6841303110122681,\n",
       "  0.6841298341751099,\n",
       "  0.6841207146644592,\n",
       "  0.6841245889663696,\n",
       "  0.6841320991516113,\n",
       "  0.6841332316398621,\n",
       "  0.6841193437576294,\n",
       "  0.6841219663619995],\n",
       " 'val_accuracy': [0.47368502616882324,\n",
       "  0.47368502616882324,\n",
       "  0.47368502616882324,\n",
       "  0.47368502616882324,\n",
       "  0.47368502616882324,\n",
       "  0.47368502616882324,\n",
       "  0.47368502616882324,\n",
       "  0.47368502616882324,\n",
       "  0.47368502616882324,\n",
       "  0.47368502616882324,\n",
       "  0.47368502616882324,\n",
       "  0.47368502616882324],\n",
       " 'val_loss': [0.7097516059875488,\n",
       "  0.7083328366279602,\n",
       "  0.709138810634613,\n",
       "  0.7098570466041565,\n",
       "  0.7093177437782288,\n",
       "  0.7104286551475525,\n",
       "  0.7115604281425476,\n",
       "  0.7098358273506165,\n",
       "  0.7088786959648132,\n",
       "  0.7088255882263184,\n",
       "  0.7095977067947388,\n",
       "  0.709320604801178]}"
      ]
     },
     "execution_count": 169,
     "metadata": {},
     "output_type": "execute_result"
    }
   ],
   "source": [
    "ann.history.history"
   ]
  }
 ],
 "metadata": {
  "kernelspec": {
   "display_name": "Python 3 (ipykernel)",
   "language": "python",
   "name": "python3"
  },
  "language_info": {
   "codemirror_mode": {
    "name": "ipython",
    "version": 3
   },
   "file_extension": ".py",
   "mimetype": "text/x-python",
   "name": "python",
   "nbconvert_exporter": "python",
   "pygments_lexer": "ipython3",
   "version": "3.12.4"
  }
 },
 "nbformat": 4,
 "nbformat_minor": 5
}
